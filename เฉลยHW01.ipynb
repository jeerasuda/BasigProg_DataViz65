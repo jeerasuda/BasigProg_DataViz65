{
  "nbformat": 4,
  "nbformat_minor": 0,
  "metadata": {
    "colab": {
      "name": "เฉลยHW01.ipynb",
      "provenance": [],
      "authorship_tag": "ABX9TyPAJR9ySYu0IpTT96bbQv2L",
      "include_colab_link": true
    },
    "kernelspec": {
      "name": "python3",
      "display_name": "Python 3"
    },
    "language_info": {
      "name": "python"
    }
  },
  "cells": [
    {
      "cell_type": "markdown",
      "metadata": {
        "id": "view-in-github",
        "colab_type": "text"
      },
      "source": [
        "<a href=\"https://colab.research.google.com/github/jeerasuda/BasigProg_DataViz65/blob/main/%E0%B9%80%E0%B8%89%E0%B8%A5%E0%B8%A2HW01.ipynb\" target=\"_parent\"><img src=\"https://colab.research.google.com/assets/colab-badge.svg\" alt=\"Open In Colab\"/></a>"
      ]
    },
    {
      "cell_type": "markdown",
      "source": [
        "HW1 \n",
        "\n",
        "เขียน function \n",
        "แสดงความต่างของเวลา (Quiz1)\n",
        "โดย input อยู่ในรูปแบบ ```'09:11:50 - 12:30:15'```\n",
        "\n",
        "และทดลองรัน\n",
        "\n",
        "* '09:11:50 - 12:30:15'\n",
        "* '13:41:07 - 20:00:18'\n",
        "* '00:00:00 - 23:59:59'"
      ],
      "metadata": {
        "id": "dt3IGMEdP18z"
      }
    },
    {
      "cell_type": "code",
      "source": [
        "input = '09:11:50 - 12:30:15'\n",
        "input"
      ],
      "metadata": {
        "colab": {
          "base_uri": "https://localhost:8080/",
          "height": 35
        },
        "id": "7SCx73-VRnxy",
        "outputId": "7a243ec5-d33c-4968-aa16-5c9496bc2996"
      },
      "execution_count": 1,
      "outputs": [
        {
          "output_type": "execute_result",
          "data": {
            "text/plain": [
              "'09:11:50 - 12:30:15'"
            ],
            "application/vnd.google.colaboratory.intrinsic+json": {
              "type": "string"
            }
          },
          "metadata": {},
          "execution_count": 1
        }
      ]
    },
    {
      "cell_type": "code",
      "source": [
        "input_split = input.split(' - ')\n",
        "input_split"
      ],
      "metadata": {
        "colab": {
          "base_uri": "https://localhost:8080/"
        },
        "id": "eEF5bmFmRwE_",
        "outputId": "69c8b773-c142-47cc-8b82-915e70ccc769"
      },
      "execution_count": 3,
      "outputs": [
        {
          "output_type": "execute_result",
          "data": {
            "text/plain": [
              "['09:11:50', '12:30:15']"
            ]
          },
          "metadata": {},
          "execution_count": 3
        }
      ]
    },
    {
      "cell_type": "code",
      "source": [
        "starttimeSP = input_split[0].split(':')\n",
        "endtimeSP = input_split[-1].split(':')\n",
        "print(starttimeSP,endtimeSP,sep='\\n')"
      ],
      "metadata": {
        "colab": {
          "base_uri": "https://localhost:8080/"
        },
        "id": "8V_t3hpeR-EQ",
        "outputId": "e845d7cc-b53c-4852-e7f9-e128c9ee61f6"
      },
      "execution_count": 8,
      "outputs": [
        {
          "output_type": "stream",
          "name": "stdout",
          "text": [
            "['09', '11', '50']\n",
            "['12', '30', '15']\n"
          ]
        }
      ]
    },
    {
      "cell_type": "code",
      "execution_count": 14,
      "metadata": {
        "id": "8NRh-1vFPw05"
      },
      "outputs": [],
      "source": [
        "def calculate_time(input):\n",
        "  input_split = input.split(' - ')\n",
        "  starttimeSP = input_split[0].split(':')\n",
        "  endtimeSP = input_split[-1].split(':')\n",
        "\n",
        "  starttime = 3600*int(starttimeSP[0]) + 60*int(starttimeSP[1]) + int(starttimeSP[2])\n",
        "  endtime = 3600*int(endtimeSP[0]) + 60*int(endtimeSP[1]) + int(endtimeSP[2])\n",
        "\n",
        "  print(f'ระยะเวลาระหว่าง {input_split[0]} และ {input_split[1]} ห่างกันกับ {endtime-starttime:,} วินาที')\n",
        "\n",
        "    "
      ]
    },
    {
      "cell_type": "code",
      "source": [
        "calculate_time('09:11:50 - 12:30:15')"
      ],
      "metadata": {
        "colab": {
          "base_uri": "https://localhost:8080/"
        },
        "id": "2FfyUYPlU2lZ",
        "outputId": "901ed649-a6f9-4bf7-c301-c2bb41701ea5"
      },
      "execution_count": 15,
      "outputs": [
        {
          "output_type": "stream",
          "name": "stdout",
          "text": [
            "ระยะเวลาระหว่าง 09:11:50 และ 12:30:15 ห่างกันกับ 11,905 วินาที\n"
          ]
        }
      ]
    }
  ]
}