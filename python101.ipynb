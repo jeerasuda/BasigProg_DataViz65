{
  "nbformat": 4,
  "nbformat_minor": 0,
  "metadata": {
    "colab": {
      "name": "python101.ipynb",
      "provenance": [],
      "toc_visible": true,
      "authorship_tag": "ABX9TyMMvcs632n4kjCqvGNwnsZJ",
      "include_colab_link": true
    },
    "kernelspec": {
      "name": "python3",
      "display_name": "Python 3"
    },
    "language_info": {
      "name": "python"
    }
  },
  "cells": [
    {
      "cell_type": "markdown",
      "metadata": {
        "id": "view-in-github",
        "colab_type": "text"
      },
      "source": [
        "<a href=\"https://colab.research.google.com/github/jeerasuda/BasigProg_DataViz65/blob/main/python101.ipynb\" target=\"_parent\"><img src=\"https://colab.research.google.com/assets/colab-badge.svg\" alt=\"Open In Colab\"/></a>"
      ]
    },
    {
      "cell_type": "markdown",
      "source": [
        ""
      ],
      "metadata": {
        "id": "q6ks1y3bihVT"
      }
    },
    {
      "cell_type": "markdown",
      "source": [
        "ข้อความในช่องtextเป็นภาษาmarkdown (https://www.markdownguide.org/cheat-sheet/)"
      ],
      "metadata": {
        "id": "xx-yWXA1eFjY"
      }
    },
    {
      "cell_type": "markdown",
      "source": [
        "# การจัดการข้อความในการแสดงผล\n",
        "\n",
        "\n",
        "\n"
      ],
      "metadata": {
        "id": "iYxWBRMXexXl"
      }
    },
    {
      "cell_type": "markdown",
      "source": [
        "## string (ข้อความ)"
      ],
      "metadata": {
        "id": "vXDITWnXk5sO"
      }
    },
    {
      "cell_type": "code",
      "source": [
        "'สถิติ' # ' quote"
      ],
      "metadata": {
        "colab": {
          "base_uri": "https://localhost:8080/",
          "height": 35
        },
        "id": "Zxs9RnD9fwVb",
        "outputId": "5892f120-3b4e-41b6-f70b-8c42e055b1e4"
      },
      "execution_count": null,
      "outputs": [
        {
          "output_type": "execute_result",
          "data": {
            "text/plain": [
              "'สถิติ'"
            ],
            "application/vnd.google.colaboratory.intrinsic+json": {
              "type": "string"
            }
          },
          "metadata": {},
          "execution_count": 1
        }
      ]
    },
    {
      "cell_type": "code",
      "source": [
        "\"สถิติ\" # \" quote"
      ],
      "metadata": {
        "colab": {
          "base_uri": "https://localhost:8080/",
          "height": 35
        },
        "id": "l0NwwL5lgB69",
        "outputId": "ecfe567d-6669-47bb-9446-98add84609d4"
      },
      "execution_count": null,
      "outputs": [
        {
          "output_type": "execute_result",
          "data": {
            "text/plain": [
              "'สถิติ'"
            ],
            "application/vnd.google.colaboratory.intrinsic+json": {
              "type": "string"
            }
          },
          "metadata": {},
          "execution_count": 2
        }
      ]
    },
    {
      "cell_type": "code",
      "source": [
        "1+3"
      ],
      "metadata": {
        "colab": {
          "base_uri": "https://localhost:8080/"
        },
        "id": "ZhpUNiPYgdAm",
        "outputId": "77b81b63-af57-457a-e2e8-7ec50328e549"
      },
      "execution_count": null,
      "outputs": [
        {
          "output_type": "execute_result",
          "data": {
            "text/plain": [
              "4"
            ]
          },
          "metadata": {},
          "execution_count": 3
        }
      ]
    },
    {
      "cell_type": "code",
      "source": [
        "'1'+'3' # string + string คือการต่อ string"
      ],
      "metadata": {
        "colab": {
          "base_uri": "https://localhost:8080/",
          "height": 35
        },
        "id": "77uMMir_gfwc",
        "outputId": "3ac564b8-11b6-4bcd-ccd1-32e459fb4fb9"
      },
      "execution_count": null,
      "outputs": [
        {
          "output_type": "execute_result",
          "data": {
            "text/plain": [
              "'13'"
            ],
            "application/vnd.google.colaboratory.intrinsic+json": {
              "type": "string"
            }
          },
          "metadata": {},
          "execution_count": 4
        }
      ]
    },
    {
      "cell_type": "code",
      "source": [
        "'1'-'3' #string - string ทำไม่ได้"
      ],
      "metadata": {
        "colab": {
          "base_uri": "https://localhost:8080/",
          "height": 166
        },
        "id": "Qq2Y2s7ChgP9",
        "outputId": "51da80c7-7d7c-4d14-f7f1-31557535c19f"
      },
      "execution_count": null,
      "outputs": [
        {
          "output_type": "error",
          "ename": "TypeError",
          "evalue": "ignored",
          "traceback": [
            "\u001b[0;31m---------------------------------------------------------------------------\u001b[0m",
            "\u001b[0;31mTypeError\u001b[0m                                 Traceback (most recent call last)",
            "\u001b[0;32m<ipython-input-5-dfc7be9d4266>\u001b[0m in \u001b[0;36m<module>\u001b[0;34m()\u001b[0m\n\u001b[0;32m----> 1\u001b[0;31m \u001b[0;34m'1'\u001b[0m\u001b[0;34m-\u001b[0m\u001b[0;34m'3'\u001b[0m \u001b[0;31m#string - string ทำไม่ได้\u001b[0m\u001b[0;34m\u001b[0m\u001b[0;34m\u001b[0m\u001b[0m\n\u001b[0m",
            "\u001b[0;31mTypeError\u001b[0m: unsupported operand type(s) for -: 'str' and 'str'"
          ]
        }
      ]
    },
    {
      "cell_type": "markdown",
      "source": [
        "## Print (ข้อความ)"
      ],
      "metadata": {
        "id": "zpHF8k-Lh5_s"
      }
    },
    {
      "cell_type": "code",
      "source": [
        "print('ข้อความที่อยากให้ print')"
      ],
      "metadata": {
        "colab": {
          "base_uri": "https://localhost:8080/"
        },
        "id": "-6u7sq4VhyQY",
        "outputId": "bff33c6d-7d9a-4577-de85-8ccfc7c4d23f"
      },
      "execution_count": null,
      "outputs": [
        {
          "output_type": "stream",
          "name": "stdout",
          "text": [
            "ข้อความที่อยากให้ print\n"
          ]
        }
      ]
    },
    {
      "cell_type": "markdown",
      "source": [
        "#ตัวแปร(Varibles)"
      ],
      "metadata": {
        "id": "pu9asvWcfLC3"
      }
    },
    {
      "cell_type": "code",
      "source": [
        "vartest1 = 1+3"
      ],
      "metadata": {
        "id": "eL4d44q8jstm"
      },
      "execution_count": null,
      "outputs": []
    },
    {
      "cell_type": "code",
      "source": [
        "vartest1"
      ],
      "metadata": {
        "colab": {
          "base_uri": "https://localhost:8080/"
        },
        "id": "7SvI1L6Cj4hp",
        "outputId": "fe9db48d-a881-4116-f5bd-4c5876d356d0"
      },
      "execution_count": null,
      "outputs": [
        {
          "output_type": "execute_result",
          "data": {
            "text/plain": [
              "4"
            ]
          },
          "metadata": {},
          "execution_count": 12
        }
      ]
    },
    {
      "cell_type": "code",
      "source": [
        "print(vartest1)"
      ],
      "metadata": {
        "colab": {
          "base_uri": "https://localhost:8080/"
        },
        "id": "pX-vSyovj9QA",
        "outputId": "82c78fd4-c27e-4195-ccb9-9c06561d3861"
      },
      "execution_count": null,
      "outputs": [
        {
          "output_type": "stream",
          "name": "stdout",
          "text": [
            "4\n"
          ]
        }
      ]
    },
    {
      "cell_type": "code",
      "source": [
        "vartest2 = '1'+'3'"
      ],
      "metadata": {
        "id": "yd-fc05CkG95"
      },
      "execution_count": null,
      "outputs": []
    },
    {
      "cell_type": "code",
      "source": [
        "vartest2"
      ],
      "metadata": {
        "colab": {
          "base_uri": "https://localhost:8080/",
          "height": 35
        },
        "id": "d7Yf8hEOkLa1",
        "outputId": "7105773c-6144-4726-818e-22572e9e9974"
      },
      "execution_count": null,
      "outputs": [
        {
          "output_type": "execute_result",
          "data": {
            "text/plain": [
              "'13'"
            ],
            "application/vnd.google.colaboratory.intrinsic+json": {
              "type": "string"
            }
          },
          "metadata": {},
          "execution_count": 17
        }
      ]
    },
    {
      "cell_type": "code",
      "source": [
        "print(vartest2)"
      ],
      "metadata": {
        "colab": {
          "base_uri": "https://localhost:8080/"
        },
        "id": "Pyn2e5yukdOT",
        "outputId": "ac3de64e-e48c-48a5-f31d-9ccb67a67c0e"
      },
      "execution_count": null,
      "outputs": [
        {
          "output_type": "stream",
          "name": "stdout",
          "text": [
            "13\n"
          ]
        }
      ]
    },
    {
      "cell_type": "markdown",
      "source": [
        "## ข้อกำหนดในกาาตั้งชื่อตัวแปร\n",
        "1. ตั้งให้สื่อความหมาย\n",
        "2. ต้องเป็นภาษาอังกฤษ\n",
        "3. ใช้ตัวเลขผสมกับตัวหนังสือได้แต่ห้ามขึ้นต้นด้วยตัวเลข\n",
        "4. ห้ามมีเว้นวรรคในชื่อตัวแปร"
      ],
      "metadata": {
        "id": "3KkRdju7lHce"
      }
    },
    {
      "cell_type": "code",
      "source": [
        "1a = 7 #ใช้ตัวเลขผสมกับตัวหนังสือได้ แต่ห้ามขึ้นต้นด้วยตัวเลข"
      ],
      "metadata": {
        "colab": {
          "base_uri": "https://localhost:8080/",
          "height": 131
        },
        "id": "-PMvoy6Nlc4U",
        "outputId": "0c2f8e3a-35e2-4e1c-dc81-d3e5a794de15"
      },
      "execution_count": null,
      "outputs": [
        {
          "output_type": "error",
          "ename": "SyntaxError",
          "evalue": "ignored",
          "traceback": [
            "\u001b[0;36m  File \u001b[0;32m\"<ipython-input-19-fef70cc47db2>\"\u001b[0;36m, line \u001b[0;32m1\u001b[0m\n\u001b[0;31m    1a = 7\u001b[0m\n\u001b[0m     ^\u001b[0m\n\u001b[0;31mSyntaxError\u001b[0m\u001b[0;31m:\u001b[0m invalid syntax\n"
          ]
        }
      ]
    },
    {
      "cell_type": "code",
      "source": [
        "variable a = 1 #ห้ามีเว้นวรรคในชื่อตัวแปร"
      ],
      "metadata": {
        "colab": {
          "base_uri": "https://localhost:8080/",
          "height": 131
        },
        "id": "VOQqOvHtloN0",
        "outputId": "eb015c0b-8a13-48c3-9737-3af5e49ec3be"
      },
      "execution_count": null,
      "outputs": [
        {
          "output_type": "error",
          "ename": "SyntaxError",
          "evalue": "ignored",
          "traceback": [
            "\u001b[0;36m  File \u001b[0;32m\"<ipython-input-20-81f2a2c0c675>\"\u001b[0;36m, line \u001b[0;32m1\u001b[0m\n\u001b[0;31m    variable a = 1\u001b[0m\n\u001b[0m             ^\u001b[0m\n\u001b[0;31mSyntaxError\u001b[0m\u001b[0;31m:\u001b[0m invalid syntax\n"
          ]
        }
      ]
    },
    {
      "cell_type": "markdown",
      "source": [
        "##Advance Printing\n",
        "เราสามารถ print ตัวแปร ร่วมกับข้อความได้\n",
        "```python\n",
        "print(f'ข้อความ{code}')\n",
        "```"
      ],
      "metadata": {
        "id": "xHxs6WwXmnab"
      }
    },
    {
      "cell_type": "code",
      "source": [
        "print(f'หนึ่ง บวก สอง (1+2) เท่ากับ สาม ({1+2})') # { } curry brackets"
      ],
      "metadata": {
        "colab": {
          "base_uri": "https://localhost:8080/"
        },
        "id": "DSn2OvAHmsDS",
        "outputId": "ed0d6f6c-b170-495d-e338-76f48202be03"
      },
      "execution_count": null,
      "outputs": [
        {
          "output_type": "stream",
          "name": "stdout",
          "text": [
            "หนึ่ง บวก สอง (1+2) เท่ากับ สาม (3)\n"
          ]
        }
      ]
    },
    {
      "cell_type": "code",
      "source": [
        "a = 1\n",
        "b = 2\n",
        "print(f'หนึ่ง บวก สอง({a}+{b}) เท่ากับ สาม({1+2}) ')"
      ],
      "metadata": {
        "colab": {
          "base_uri": "https://localhost:8080/"
        },
        "id": "5lSwV1mxok58",
        "outputId": "9de120b8-edd6-4b07-88ae-466f5c324538"
      },
      "execution_count": null,
      "outputs": [
        {
          "output_type": "stream",
          "name": "stdout",
          "text": [
            "หนึ่ง บวก สอง(1+2) เท่ากับ สาม(3) \n"
          ]
        }
      ]
    },
    {
      "cell_type": "code",
      "source": [
        "a = 6\n",
        "b = 2"
      ],
      "metadata": {
        "id": "7k_-BGhepNB6"
      },
      "execution_count": null,
      "outputs": []
    },
    {
      "cell_type": "code",
      "source": [
        "print(f'{a}+{b} = {a+b}')"
      ],
      "metadata": {
        "colab": {
          "base_uri": "https://localhost:8080/"
        },
        "id": "zKF5N2A5pTbR",
        "outputId": "17e507df-decb-4ba9-deda-2fc8baf502a8"
      },
      "execution_count": null,
      "outputs": [
        {
          "output_type": "stream",
          "name": "stdout",
          "text": [
            "-1+11 = 10\n"
          ]
        }
      ]
    },
    {
      "cell_type": "code",
      "source": [
        " a = -1\n",
        " b = 11"
      ],
      "metadata": {
        "id": "g1icRgh0ppK_"
      },
      "execution_count": null,
      "outputs": []
    }
  ]
}