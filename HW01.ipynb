{
  "nbformat": 4,
  "nbformat_minor": 0,
  "metadata": {
    "colab": {
      "name": "HW01.ipynb",
      "provenance": [],
      "authorship_tag": "ABX9TyMXncMgVtS4uDpFmRf6stAq",
      "include_colab_link": true
    },
    "kernelspec": {
      "name": "python3",
      "display_name": "Python 3"
    },
    "language_info": {
      "name": "python"
    }
  },
  "cells": [
    {
      "cell_type": "markdown",
      "metadata": {
        "id": "view-in-github",
        "colab_type": "text"
      },
      "source": [
        "<a href=\"https://colab.research.google.com/github/jeerasuda/BasigProg_DataViz65/blob/main/HW01.ipynb\" target=\"_parent\"><img src=\"https://colab.research.google.com/assets/colab-badge.svg\" alt=\"Open In Colab\"/></a>"
      ]
    },
    {
      "cell_type": "markdown",
      "source": [
        "HW1 \n",
        "\n",
        "เขียน function \n",
        "แสดงความต่างของเวลา (Quiz1)\n",
        "โดย input อยู่ในรูปแบบ ```'09:11:50 - 12:30:15'```\n",
        "\n",
        "และทดลองรัน\n",
        "\n",
        "* '09:11:50 - 12:30:15'\n",
        "* '13:41:07 - 20:00:18'\n",
        "* '00:00:00 - 23:59:59'"
      ],
      "metadata": {
        "id": "ybYjXin5eYNi"
      }
    },
    {
      "cell_type": "code",
      "execution_count": 1,
      "metadata": {
        "id": "cFsS9z-feV2O"
      },
      "outputs": [],
      "source": [
        "def print_time(time1,time2):\n",
        "    t1 = time1\n",
        "    sp_t1 = t1.split(\":\")\n",
        "    t2 = time2\n",
        "    sp_t2 = t2.split(\":\")\n",
        "    a1 = (int(sp_t2[0])*3600)+(int(sp_t2[1])*60)+int(sp_t2[2])\n",
        "    a2 = (int(sp_t1[0])*3600)+(int(sp_t1[1])*60)+int(sp_t1[2])\n",
        "    time3 = (a1-a2)\n",
        "    print(f'{time1}-{time2} ความต่างของเวลา = {time3} วินาที')"
      ]
    },
    {
      "cell_type": "code",
      "source": [
        "print_time(\"09:11:50\",\"12:30:15\")"
      ],
      "metadata": {
        "colab": {
          "base_uri": "https://localhost:8080/"
        },
        "id": "e_k-XWSagWXc",
        "outputId": "eed8e3c1-8805-4a41-a545-2906308e5958"
      },
      "execution_count": 2,
      "outputs": [
        {
          "output_type": "stream",
          "name": "stdout",
          "text": [
            "09:11:50-12:30:15 ความต่างของเวลา = 11905 วินาที\n"
          ]
        }
      ]
    },
    {
      "cell_type": "code",
      "source": [
        "print_time(\"13:41:07\",\"20:00:18\")"
      ],
      "metadata": {
        "colab": {
          "base_uri": "https://localhost:8080/"
        },
        "id": "ql-BQ_LrgsQv",
        "outputId": "9f20f599-14f9-4e24-c63d-70624f7ac003"
      },
      "execution_count": 3,
      "outputs": [
        {
          "output_type": "stream",
          "name": "stdout",
          "text": [
            "13:41:07-20:00:18 ความต่างของเวลา = 22751 วินาที\n"
          ]
        }
      ]
    },
    {
      "cell_type": "code",
      "source": [
        "print_time(\"00:00:00\",\"23:59:59\")"
      ],
      "metadata": {
        "colab": {
          "base_uri": "https://localhost:8080/"
        },
        "id": "YfZApfcXg0Mn",
        "outputId": "4f533a3a-b3d5-46a8-eba0-a198ab6c8f30"
      },
      "execution_count": 4,
      "outputs": [
        {
          "output_type": "stream",
          "name": "stdout",
          "text": [
            "00:00:00-23:59:59 ความต่างของเวลา = 86399 วินาที\n"
          ]
        }
      ]
    }
  ]
}