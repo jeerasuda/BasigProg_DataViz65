{
  "nbformat": 4,
  "nbformat_minor": 0,
  "metadata": {
    "colab": {
      "name": "Recap 1-3 Quiz1.ipynb",
      "provenance": [],
      "include_colab_link": true
    },
    "kernelspec": {
      "name": "python3",
      "display_name": "Python 3"
    },
    "language_info": {
      "name": "python"
    }
  },
  "cells": [
    {
      "cell_type": "markdown",
      "metadata": {
        "id": "view-in-github",
        "colab_type": "text"
      },
      "source": [
        "<a href=\"https://colab.research.google.com/github/jeerasuda/BasigProg_DataViz65/blob/main/Recap_1_3_Quiz1.ipynb\" target=\"_parent\"><img src=\"https://colab.research.google.com/assets/colab-badge.svg\" alt=\"Open In Colab\"/></a>"
      ]
    },
    {
      "cell_type": "markdown",
      "source": [
        "Quiz 1 \n",
        "\n",
        "คำนวณเวลาเป็นความต่างของเวลาเป็นวินาทีของช่วงเวลาต่อไปนี้โดยใช้คำสั่ง split() ช่วย และ print ออกมาให้สวยงาม\n",
        "\n",
        "* 09:11:50 - 12:30:15\n",
        "* 13:41:07 - 20:00:18\n",
        "* 21:30:15 - 00:00:00\n",
        "* 00:00:00 - 23:59:59\n",
        "\n",
        "\n",
        "\n",
        "\n",
        "\n"
      ],
      "metadata": {
        "id": "FKKg2s03yfKC"
      }
    },
    {
      "cell_type": "code",
      "execution_count": 11,
      "metadata": {
        "id": "JHgL5URByL6e",
        "outputId": "3f1ead91-f3e3-43cd-dd2e-b1a7486aaaa1",
        "colab": {
          "base_uri": "https://localhost:8080/"
        }
      },
      "outputs": [
        {
          "output_type": "stream",
          "name": "stdout",
          "text": [
            "['09', '11', '50']\n",
            "['12', '30', '15']\n",
            "09:11:50 - 12:30:15 แปลงเป็นความต่างของเวลาเป็นวินาทีได้ 11905 วินาที\n"
          ]
        }
      ],
      "source": [
        "a1 = '09:11:50'\n",
        "a1_sp = a1.split(':')\n",
        "print(a1_sp)\n",
        "work1 = int(a1_sp[0])*3600+int (a1_sp[1])*60+int (a1_sp[2])\n",
        "a2='12:30:15'\n",
        "a2_sp = a2.split(':')\n",
        "print(a2_sp)\n",
        "work2 = int(a2_sp[0])*3600+int (a2_sp[1])*60+int (a2_sp[2])\n",
        "print(f'{a1} - {a2} แปลงเป็นความต่างของเวลาเป็นวินาทีได้ {work2-work1} วินาที')"
      ]
    },
    {
      "cell_type": "code",
      "source": [
        "a3 = '13:41:07'\n",
        "a3_sp = a3.split(':')\n",
        "print(a3_sp)\n",
        "work1 = int(a3_sp[0])*3600+int (a3_sp[1])*60+int (a3_sp[2])\n",
        "a4='20:00:18'\n",
        "a4_sp = a4.split(':')\n",
        "print(a4_sp)\n",
        "work2 = int(a4_sp[0])*3600+int (a4_sp[1])*60+int (a4_sp[2])\n",
        "print(f'{a3} - {a4} แปลงเป็นความต่างของเวลาเป็นวินาทีได้ {work2-work1} วินาที')"
      ],
      "metadata": {
        "id": "0Dxbb8bvT_Ie",
        "outputId": "9db4ac40-340b-4408-9b36-2196d41e0749",
        "colab": {
          "base_uri": "https://localhost:8080/"
        }
      },
      "execution_count": 13,
      "outputs": [
        {
          "output_type": "stream",
          "name": "stdout",
          "text": [
            "['13', '41', '07']\n",
            "['20', '00', '18']\n",
            "13:41:07 - 20:00:18 แปลงเป็นความต่างของเวลาเป็นวินาทีได้ 22751 วินาที\n"
          ]
        }
      ]
    },
    {
      "cell_type": "code",
      "source": [
        "j1 = '21:30:15'\n",
        "j1_sp = j1.split(':')\n",
        "print(j1_sp)\n",
        "work1 = int(j1_sp[0])*3600+int (j1_sp[1])*60+int (j1_sp[2])\n",
        "j2='00:00:00'\n",
        "j2_sp = j2.split(':')\n",
        "print(j2_sp)\n",
        "work2 = int(j2_sp[0])*3600+int (j2_sp[1])*60+int (j2_sp[2])\n",
        "print(f'{j1} - {j2} แปลงเป็นความต่างของเวลาเป็นวินาทีได้ {work1-work2} วินาที')"
      ],
      "metadata": {
        "id": "usvtoxaEU_qB",
        "outputId": "3f3e1189-fbea-4692-fcd7-6ff9a0cc7a39",
        "colab": {
          "base_uri": "https://localhost:8080/"
        }
      },
      "execution_count": 15,
      "outputs": [
        {
          "output_type": "stream",
          "name": "stdout",
          "text": [
            "['21', '30', '15']\n",
            "['00', '00', '00']\n",
            "21:30:15 - 00:00:00 แปลงเป็นความต่างของเวลาเป็นวินาทีได้ 77415 วินาที\n"
          ]
        }
      ]
    },
    {
      "cell_type": "code",
      "source": [
        "s1 = '00:00:00'\n",
        "s1_sp = s1.split(':')\n",
        "print(s1_sp)\n",
        "work1 = int(s1_sp[0])*3600+int (s1_sp[1])*60+int (s1_sp[2])\n",
        "s2='23:59:59'\n",
        "s2_sp = s2.split(':')\n",
        "print(s2_sp)\n",
        "work2 = int(s2_sp[0])*3600+int (s2_sp[1])*60+int (s2_sp[2])\n",
        "print(f'{s1} - {s2} แปลงเป็นความต่างของเวลาเป็นวินาทีได้ {work2-work1} วินาที')"
      ],
      "metadata": {
        "id": "e681tQYyV6Lt",
        "outputId": "bfa8e9e9-5be1-4737-ca66-2d502fcd3ca7",
        "colab": {
          "base_uri": "https://localhost:8080/"
        }
      },
      "execution_count": 17,
      "outputs": [
        {
          "output_type": "stream",
          "name": "stdout",
          "text": [
            "['00', '00', '00']\n",
            "['23', '59', '59']\n",
            "00:00:00 - 23:59:59 แปลงเป็นความต่างของเวลาเป็นวินาทีได้ 86399 วินาที\n"
          ]
        }
      ]
    }
  ]
}